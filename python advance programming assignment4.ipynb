{
 "cells": [
  {
   "cell_type": "code",
   "execution_count": 1,
   "id": "996d4f56",
   "metadata": {},
   "outputs": [],
   "source": [
    "'''1. In mathematics, the Fibonacci numbers, commonly denoted Fn, form a sequence, called the Fibonacci sequence, such that\n",
    "each number is the sum of the two preceding ones, starting from 0 and 1:The beginning of the sequence is this:\n",
    "0, 1, 1, 2, 3, 5, 8, 13, 21, 34, 55, 89, 144, ...The function fastFib(num) returns the fibonacci number Fn, of the given num\n",
    "as an argument.'''\n",
    "def fibonacci(n):\n",
    "    a=0\n",
    "    b=1\n",
    "    for i in range(n-1):\n",
    "        a,b=b,a+b\n",
    "    return b"
   ]
  },
  {
   "cell_type": "code",
   "execution_count": 2,
   "id": "56ac0f92",
   "metadata": {},
   "outputs": [
    {
     "data": {
      "text/plain": [
       "5"
      ]
     },
     "execution_count": 2,
     "metadata": {},
     "output_type": "execute_result"
    }
   ],
   "source": [
    "fibonacci(5)"
   ]
  },
  {
   "cell_type": "code",
   "execution_count": 3,
   "id": "9260e21c",
   "metadata": {},
   "outputs": [
    {
     "data": {
      "text/plain": [
       "55"
      ]
     },
     "execution_count": 3,
     "metadata": {},
     "output_type": "execute_result"
    }
   ],
   "source": [
    "fibonacci(10)"
   ]
  },
  {
   "cell_type": "code",
   "execution_count": 4,
   "id": "097fcd2c",
   "metadata": {},
   "outputs": [
    {
     "data": {
      "text/plain": [
       "6765"
      ]
     },
     "execution_count": 4,
     "metadata": {},
     "output_type": "execute_result"
    }
   ],
   "source": [
    "fibonacci(20)"
   ]
  },
  {
   "cell_type": "code",
   "execution_count": 5,
   "id": "5065e6ab",
   "metadata": {},
   "outputs": [
    {
     "data": {
      "text/plain": [
       "12586269025"
      ]
     },
     "execution_count": 5,
     "metadata": {},
     "output_type": "execute_result"
    }
   ],
   "source": [
    "fibonacci(50)"
   ]
  },
  {
   "cell_type": "code",
   "execution_count": 6,
   "id": "f8bd4925",
   "metadata": {},
   "outputs": [],
   "source": [
    "#2. Create a function that takes a strings characters as ASCII and returns each characters hexadecimal value as a string.\n",
    "def converttohex(s):\n",
    "    l=\"\"\n",
    "    for i in range(len(s)):\n",
    "        if i==len(s)-1:\n",
    "            l+=str(hex(ord(s[i])))[2:]\n",
    "        else:\n",
    "            l+=str(hex(ord(s[i])))[2:]\n",
    "            l+=\" \"\n",
    "    return l\n",
    "        "
   ]
  },
  {
   "cell_type": "code",
   "execution_count": 7,
   "id": "ef42b191",
   "metadata": {},
   "outputs": [
    {
     "data": {
      "text/plain": [
       "'68 65 6c 6c 6f 20 77 6f 72 6c 64'"
      ]
     },
     "execution_count": 7,
     "metadata": {},
     "output_type": "execute_result"
    }
   ],
   "source": [
    "converttohex(\"hello world\")"
   ]
  },
  {
   "cell_type": "code",
   "execution_count": 8,
   "id": "02b0b5c4",
   "metadata": {},
   "outputs": [
    {
     "data": {
      "text/plain": [
       "'42 69 67 20 42 6f 69'"
      ]
     },
     "execution_count": 8,
     "metadata": {},
     "output_type": "execute_result"
    }
   ],
   "source": [
    "converttohex(\"Big Boi\")"
   ]
  },
  {
   "cell_type": "code",
   "execution_count": 9,
   "id": "9129a6d8",
   "metadata": {},
   "outputs": [
    {
     "data": {
      "text/plain": [
       "'4d 61 72 74 79 20 50 6f 70 70 69 6e 73 6f 6e'"
      ]
     },
     "execution_count": 9,
     "metadata": {},
     "output_type": "execute_result"
    }
   ],
   "source": [
    "converttohex(\"Marty Poppinson\")"
   ]
  },
  {
   "cell_type": "code",
   "execution_count": 10,
   "id": "2fac1c23",
   "metadata": {},
   "outputs": [],
   "source": [
    "'''3. Someone has attempted to censor my strings by replacing every vowel with a *, l*k* th*s. Luckily, I've been able to\n",
    "find the vowels that were removed.Given a censored string and a string of the censored vowels, return the original\n",
    "uncensored string.'''\n",
    "def uncensor(s,t):\n",
    "    l=\"\"\n",
    "    j=0\n",
    "    for i in s:\n",
    "        if i=='*':\n",
    "            l+=t[j]\n",
    "            j+=1\n",
    "        else:\n",
    "            l+=i\n",
    "    return l         "
   ]
  },
  {
   "cell_type": "code",
   "execution_count": 11,
   "id": "14caf176",
   "metadata": {},
   "outputs": [
    {
     "data": {
      "text/plain": [
       "'Where did my vowels go?'"
      ]
     },
     "execution_count": 11,
     "metadata": {},
     "output_type": "execute_result"
    }
   ],
   "source": [
    "uncensor(\"Wh*r* d*d my v*w*ls g*?\", \"eeioeo\")"
   ]
  },
  {
   "cell_type": "code",
   "execution_count": 12,
   "id": "84c3b196",
   "metadata": {},
   "outputs": [
    {
     "data": {
      "text/plain": [
       "'abcd'"
      ]
     },
     "execution_count": 12,
     "metadata": {},
     "output_type": "execute_result"
    }
   ],
   "source": [
    "uncensor(\"abcd\", \"\") "
   ]
  },
  {
   "cell_type": "code",
   "execution_count": 13,
   "id": "840f7267",
   "metadata": {},
   "outputs": [
    {
     "data": {
      "text/plain": [
       "'UPPERCASE'"
      ]
     },
     "execution_count": 13,
     "metadata": {},
     "output_type": "execute_result"
    }
   ],
   "source": [
    "uncensor(\"*PP*RC*S*\",\"UEAE\") "
   ]
  },
  {
   "cell_type": "code",
   "execution_count": 14,
   "id": "7e2e8216",
   "metadata": {},
   "outputs": [],
   "source": [
    "#4. Write a function that takes an IP address and returns the domain name using PTR DNS records.\n",
    "import socket\n",
    "def getdomain(s):  \n",
    "  l=socket.gethostbyaddr(s)\n",
    "  return list(l)[0]"
   ]
  },
  {
   "cell_type": "code",
   "execution_count": 15,
   "id": "ba58caff",
   "metadata": {},
   "outputs": [
    {
     "data": {
      "text/plain": [
       "'dns.google'"
      ]
     },
     "execution_count": 15,
     "metadata": {},
     "output_type": "execute_result"
    }
   ],
   "source": [
    "getdomain(\"8.8.8.8\")"
   ]
  },
  {
   "cell_type": "code",
   "execution_count": 16,
   "id": "f2473d4a",
   "metadata": {},
   "outputs": [
    {
     "data": {
      "text/plain": [
       "'dns.google'"
      ]
     },
     "execution_count": 16,
     "metadata": {},
     "output_type": "execute_result"
    }
   ],
   "source": [
    "getdomain(\"8.8.4.4\")"
   ]
  },
  {
   "cell_type": "code",
   "execution_count": 17,
   "id": "6fe584fa",
   "metadata": {},
   "outputs": [],
   "source": [
    "#5. Create a function that takes an integer n and returns the factorial of factorials.\n",
    "def factoffact(n):\n",
    "    s=1\n",
    "    l=n\n",
    "    for i in range(1,n+1):\n",
    "        s*=i**l\n",
    "        l-=1\n",
    "    return s"
   ]
  },
  {
   "cell_type": "code",
   "execution_count": 18,
   "id": "3398cedd",
   "metadata": {},
   "outputs": [
    {
     "data": {
      "text/plain": [
       "288"
      ]
     },
     "execution_count": 18,
     "metadata": {},
     "output_type": "execute_result"
    }
   ],
   "source": [
    "factoffact(4)"
   ]
  },
  {
   "cell_type": "code",
   "execution_count": 19,
   "id": "6ce2d906",
   "metadata": {},
   "outputs": [
    {
     "data": {
      "text/plain": [
       "34560"
      ]
     },
     "execution_count": 19,
     "metadata": {},
     "output_type": "execute_result"
    }
   ],
   "source": [
    "factoffact(5)"
   ]
  },
  {
   "cell_type": "code",
   "execution_count": 20,
   "id": "01adf6a0",
   "metadata": {},
   "outputs": [
    {
     "data": {
      "text/plain": [
       "24883200"
      ]
     },
     "execution_count": 20,
     "metadata": {},
     "output_type": "execute_result"
    }
   ],
   "source": [
    "factoffact(6)"
   ]
  }
 ],
 "metadata": {
  "kernelspec": {
   "display_name": "Python 3 (ipykernel)",
   "language": "python",
   "name": "python3"
  },
  "language_info": {
   "codemirror_mode": {
    "name": "ipython",
    "version": 3
   },
   "file_extension": ".py",
   "mimetype": "text/x-python",
   "name": "python",
   "nbconvert_exporter": "python",
   "pygments_lexer": "ipython3",
   "version": "3.10.9"
  }
 },
 "nbformat": 4,
 "nbformat_minor": 5
}
